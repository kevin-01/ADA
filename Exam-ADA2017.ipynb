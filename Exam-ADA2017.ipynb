{
 "cells": [
  {
   "cell_type": "markdown",
   "metadata": {},
   "source": [
    "# Table of Contents\n",
    " <p><div class=\"lev1\"><a href=\"#Task-1\"><span class=\"toc-item-num\">Task 1&nbsp;&nbsp;</span>ABC</a></div>\n",
    " <div class=\"lev2\"><a href=\"#1.1-Import-Data\"><span class=\"toc-item-num\">1.1 &nbsp;&nbsp;</span>Import Data</a></div>\n",
    " <div class=\"lev2\"><a href=\"#1.2-Indexing-Data\"><span class=\"toc-item-num\">1.2 &nbsp;&nbsp;</span>Indexing Data</a></div>\n",
    " <div class=\"lev2\"><a href=\"#1.3-Data-cleaning\"><span class=\"toc-item-num\">1.3 &nbsp;&nbsp;</span>Data cleaning</a></div>\n",
    " <div class=\"lev2\"><a href=\"#1.4-Calculating-means\"><span class=\"toc-item-num\">1.4 &nbsp;&nbsp;</span>Calculating means</a></div>\n",
    " <div class=\"lev2\"><a href=\"#1.5-Merging\"><span class=\"toc-item-num\">1.5 &nbsp;&nbsp;</span>Merging</a>\n",
    " </p>\n",
    " <p>\n",
    " <div class=\"lev1\"><a href=\"#Task-2.-RNA-Sequences\"><span class=\"toc-item-num\">Task 2.&nbsp;&nbsp;</span>RNA Sequences</a></div>\n",
    " <div class=\"lev1\"><a href=\"#Task-3.-Class-War-in-Titanic\"><span class=\"toc-item-num\">Task 3.&nbsp;&nbsp;</span>Class War in Titanic</a></div>\n",
    " <div class=\"lev2\"><a href=\"#Task-3.1\"><span class=\"toc-item-num\"></span>3.1 Types and Values</a></div>\n",
    " <div class=\"lev2\"><a href=\"#Task-3.2\"><span class=\"toc-item-num\"></span>3.2 Histograms</a></div>\n",
    " <div class=\"lev2\"><a href=\"#Task-3.3\"><span class=\"toc-item-num\"></span>3.3 Cabin Pie Chart</a></div>\n",
    " <div class=\"lev2\"><a href=\"#Task-3.4\"><span class=\"toc-item-num\"></span>3.4 Class survival rate</a></div>\n",
    " <div class=\"lev2\"><a href=\"#Task-3.5\"><span class=\"toc-item-num\"></span>3.5 Survival proportion per class per sex</a></div>\n",
    " <div class=\"lev2\"><a href=\"#Task-3.6\"><span class=\"toc-item-num\"></span>3.5 Survival Data per age category, class and sex</a></div>\n",
    " </p>\n",
    " \n"
   ]
  },
  {
   "cell_type": "code",
   "execution_count": 1,
   "metadata": {
    "collapsed": true
   },
   "outputs": [],
   "source": [
    "import numpy as np\n",
    "import pandas as pd\n",
    "from bs4 import BeautifulSoup\n",
    "import seaborn as sns\n",
    "\n",
    "import glob, os\n",
    "from dateutil.parser import parse\n",
    "\n",
    "import json\n",
    "import folium\n",
    "\n",
    "import matplotlib.pyplot as plt\n",
    "from sklearn import linear_model"
   ]
  },
  {
   "cell_type": "markdown",
   "metadata": {
    "collapsed": true
   },
   "source": [
    "## Task 1 "
   ]
  },
  {
   "cell_type": "code",
   "execution_count": null,
   "metadata": {
    "collapsed": true
   },
   "outputs": [],
   "source": []
  }
 ],
 "metadata": {
  "kernelspec": {
   "display_name": "Python 3",
   "language": "python",
   "name": "python3"
  },
  "language_info": {
   "codemirror_mode": {
    "name": "ipython",
    "version": 3
   },
   "file_extension": ".py",
   "mimetype": "text/x-python",
   "name": "python",
   "nbconvert_exporter": "python",
   "pygments_lexer": "ipython3",
   "version": "3.6.2"
  }
 },
 "nbformat": 4,
 "nbformat_minor": 2
}
